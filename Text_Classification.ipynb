{
  "nbformat": 4,
  "nbformat_minor": 0,
  "metadata": {
    "colab": {
      "provenance": [],
      "gpuType": "T4"
    },
    "kernelspec": {
      "name": "python3",
      "display_name": "Python 3"
    },
    "language_info": {
      "name": "python"
    },
    "accelerator": "GPU"
  },
  "cells": [
    {
      "cell_type": "code",
      "execution_count": 1,
      "metadata": {
        "colab": {
          "base_uri": "https://localhost:8080/"
        },
        "id": "vNUsc3F7_SPX",
        "outputId": "4f7152e8-5e5b-4db2-c567-15f87003a1a5"
      },
      "outputs": [
        {
          "output_type": "stream",
          "name": "stdout",
          "text": [
            "/usr/local/lib/python3.10/dist-packages/gdown/__main__.py:132: FutureWarning: Option `--id` was deprecated in version 4.3.1 and will be removed in 5.0. You don't need to pass it anymore to use a file ID.\n",
            "  warnings.warn(\n",
            "Downloading...\n",
            "From: https://drive.google.com/uc?id=1N7rk-kfnDFIGMeX0ROVTjKh71gcgx-7R\n",
            "To: /content/2cls_spam_text_cls.csv\n",
            "100% 486k/486k [00:00<00:00, 6.81MB/s]\n"
          ]
        }
      ],
      "source": [
        "!gdown --id 1N7rk-kfnDFIGMeX0ROVTjKh71gcgx-7R"
      ]
    },
    {
      "cell_type": "code",
      "source": [
        "import string\n",
        "import nltk\n",
        "nltk.download('stopwords')\n",
        "nltk.download('punkt')\n",
        "import pandas as pd\n",
        "import numpy as np\n",
        "import matplotlib.pyplot as plt\n",
        "\n",
        "from sklearn.model_selection import train_test_split\n",
        "from sklearn.naive_bayes import GaussianNB\n",
        "from sklearn.metrics import accuracy_score\n",
        "from sklearn.preprocessing import LabelEncoder\n"
      ],
      "metadata": {
        "colab": {
          "base_uri": "https://localhost:8080/"
        },
        "id": "11dtIEzr_giA",
        "outputId": "f9b868ea-a8e5-4662-b6fb-0fe2ac6e76ec"
      },
      "execution_count": 2,
      "outputs": [
        {
          "output_type": "stream",
          "name": "stderr",
          "text": [
            "[nltk_data] Downloading package stopwords to /root/nltk_data...\n",
            "[nltk_data]   Unzipping corpora/stopwords.zip.\n",
            "[nltk_data] Downloading package punkt to /root/nltk_data...\n",
            "[nltk_data]   Unzipping tokenizers/punkt.zip.\n"
          ]
        }
      ]
    },
    {
      "cell_type": "code",
      "source": [
        "DATASET_PATH = '/content/2cls_spam_text_cls.csv'\n",
        "df = pd.read_csv(DATASET_PATH)\n",
        "\n",
        "messages = df['Message'].values.tolist()\n",
        "labels = df['Category'].values.tolist()"
      ],
      "metadata": {
        "id": "vpqpxpO1_p2k"
      },
      "execution_count": 3,
      "outputs": []
    },
    {
      "cell_type": "code",
      "source": [
        "def lowercase(text):\n",
        "    return text.lower()\n",
        "\n",
        "def punctuation_removal(text):\n",
        "    translator = str.maketrans('', '', string.punctuation)\n",
        "    return text.translate(translator)\n",
        "\n",
        "def tokenize(text):\n",
        "    return nltk.word_tokenize(text)\n",
        "\n",
        "def remove_stopwords(tokens):\n",
        "    stop_words = nltk.corpus.stopwords.words('english')\n",
        "    return [token for token in tokens if token not in stop_words]\n",
        "\n",
        "def stemming(tokens):\n",
        "    stemmer = nltk.PorterStemmer()\n",
        "    return [stemmer.stem(token) for token in tokens]\n",
        "\n",
        "def preprocess_text(text):\n",
        "    text = lowercase(text)\n",
        "    text = punctuation_removal(text)\n",
        "    tokens = tokenize(text)\n",
        "    tokens = remove_stopwords(tokens)\n",
        "    tokens = stemming(tokens)\n",
        "    return tokens\n",
        "\n",
        "messages = [preprocess_text(message) for message in messages]\n"
      ],
      "metadata": {
        "id": "-htfz4Pi_3CV"
      },
      "execution_count": 4,
      "outputs": []
    },
    {
      "cell_type": "code",
      "source": [
        "def create_dictionary(messages):\n",
        "    dictionary = []\n",
        "    for tokens in messages:\n",
        "        for token in tokens:\n",
        "            if token not in dictionary:\n",
        "                dictionary.append(token)\n",
        "    return dictionary\n",
        "\n",
        "dictionary = create_dictionary(messages)\n"
      ],
      "metadata": {
        "id": "sgWULMuZ_9ND"
      },
      "execution_count": 5,
      "outputs": []
    },
    {
      "cell_type": "code",
      "source": [
        "def create_features(tokens, dictionary):\n",
        "    features = np.zeros(len(dictionary))\n",
        "    for token in tokens:\n",
        "        if token in dictionary:\n",
        "            features[dictionary.index(token)] += 1\n",
        "    return features\n",
        "\n",
        "X = np.array([create_features(tokens, dictionary) for tokens in messages])\n"
      ],
      "metadata": {
        "id": "55Yoov1qAFU9"
      },
      "execution_count": 6,
      "outputs": []
    },
    {
      "cell_type": "code",
      "source": [
        "le = LabelEncoder()\n",
        "y = le.fit_transform(labels)\n",
        "print(f'Classes: {le.classes_}')\n",
        "print(f'Encoded labels: {y}')\n",
        "\n",
        "# Output:\n",
        "# Classes: ['ham' 'spam']\n",
        "# Encoded labels: [0 0 1 ... 0 0 0]\n"
      ],
      "metadata": {
        "colab": {
          "base_uri": "https://localhost:8080/"
        },
        "id": "-Qn71padAK2c",
        "outputId": "9be43a6c-c9d7-40a7-b949-ee2c12c2fcb5"
      },
      "execution_count": 7,
      "outputs": [
        {
          "output_type": "stream",
          "name": "stdout",
          "text": [
            "Classes: ['ham' 'spam']\n",
            "Encoded labels: [0 0 1 ... 0 0 0]\n"
          ]
        }
      ]
    },
    {
      "cell_type": "code",
      "source": [
        "VAL_SIZE = 0.2\n",
        "TEST_SIZE = 0.125\n",
        "SEED = 0\n",
        "\n",
        "X_train, X_val, y_train, y_val = train_test_split(\n",
        "    X, y,\n",
        "    test_size=VAL_SIZE,\n",
        "    shuffle=True,\n",
        "    random_state=SEED\n",
        ")\n",
        "\n",
        "X_train, X_test, y_train, y_test = train_test_split(\n",
        "    X_train, y_train,\n",
        "    test_size=TEST_SIZE,\n",
        "    shuffle=True,\n",
        "    random_state=SEED\n",
        ")\n"
      ],
      "metadata": {
        "id": "f867BJS3ARPU"
      },
      "execution_count": 8,
      "outputs": []
    },
    {
      "cell_type": "code",
      "source": [
        "model = GaussianNB()\n",
        "\n",
        "print('Start training...')\n",
        "model = model.fit(X_train, y_train)\n",
        "print('Training completed!')\n",
        "\n",
        "# Output:\n",
        "# Start training...\n",
        "# Training completed!\n",
        "# CPU times: user 397 ms, sys: 162 ms, total: 559 ms\n",
        "# Wall time: 633 ms\n"
      ],
      "metadata": {
        "colab": {
          "base_uri": "https://localhost:8080/"
        },
        "id": "Ok5pez6BAWND",
        "outputId": "93647fd9-4ecc-4ea9-f85c-be2ce331652c"
      },
      "execution_count": 9,
      "outputs": [
        {
          "output_type": "stream",
          "name": "stdout",
          "text": [
            "Start training...\n",
            "Training completed!\n"
          ]
        }
      ]
    },
    {
      "cell_type": "code",
      "source": [
        "y_val_pred = model.predict(X_val)\n",
        "y_test_pred = model.predict(X_test)\n",
        "\n",
        "val_accuracy = accuracy_score(y_val, y_val_pred)\n",
        "test_accuracy = accuracy_score(y_test, y_test_pred)\n",
        "\n",
        "print(f'Val accuracy: {val_accuracy}')\n",
        "print(f'Test accuracy: {test_accuracy}')\n",
        "\n",
        "# Output:\n",
        "# Val accuracy: 0.8816143497757848\n",
        "# Test accuracy: 0.8602150537634409\n"
      ],
      "metadata": {
        "colab": {
          "base_uri": "https://localhost:8080/"
        },
        "id": "YrmrfzaKAcGc",
        "outputId": "67cd64f2-ecd0-48fd-851e-381c1e5140cf"
      },
      "execution_count": 11,
      "outputs": [
        {
          "output_type": "stream",
          "name": "stdout",
          "text": [
            "Val accuracy: 0.8816143497757848\n",
            "Test accuracy: 0.8602150537634409\n"
          ]
        }
      ]
    },
    {
      "cell_type": "code",
      "source": [
        "def predict(text, model, dictionary):\n",
        "    processed_text = preprocess_text(text)\n",
        "    features = create_features(processed_text, dictionary)\n",
        "    features = np.array(features).reshape(1, -1)\n",
        "    prediction = model.predict(features)\n",
        "    prediction_cls = le.inverse_transform(prediction)[0]\n",
        "\n",
        "    return prediction_cls\n",
        "\n",
        "test_input = 'I am actually thinking a way of doing something useful'\n",
        "prediction_cls = predict(test_input, model, dictionary)\n",
        "print(f'Prediction: {prediction_cls}')\n",
        "\n",
        "# Output:\n",
        "# Prediction: ham\n"
      ],
      "metadata": {
        "id": "H0suRniOApeJ",
        "outputId": "439d5436-ef01-454a-bb33-5173d2938b83",
        "colab": {
          "base_uri": "https://localhost:8080/"
        }
      },
      "execution_count": 12,
      "outputs": [
        {
          "output_type": "stream",
          "name": "stdout",
          "text": [
            "Prediction: ham\n"
          ]
        }
      ]
    }
  ]
}